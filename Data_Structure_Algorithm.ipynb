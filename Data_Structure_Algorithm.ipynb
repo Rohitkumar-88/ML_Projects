{
  "nbformat": 4,
  "nbformat_minor": 0,
  "metadata": {
    "colab": {
      "provenance": [],
      "authorship_tag": "ABX9TyM3h9o7/2Dle9C/ReMFuPs0",
      "include_colab_link": true
    },
    "kernelspec": {
      "name": "python3",
      "display_name": "Python 3"
    },
    "language_info": {
      "name": "python"
    }
  },
  "cells": [
    {
      "cell_type": "markdown",
      "metadata": {
        "id": "view-in-github",
        "colab_type": "text"
      },
      "source": [
        "<a href=\"https://colab.research.google.com/github/Rohitkumar-88/ML_Projects/blob/main/Data_Structure_Algorithm.ipynb\" target=\"_parent\"><img src=\"https://colab.research.google.com/assets/colab-badge.svg\" alt=\"Open In Colab\"/></a>"
      ]
    },
    {
      "cell_type": "code",
      "execution_count": 2,
      "metadata": {
        "id": "SY8kKpdAKBM4"
      },
      "outputs": [],
      "source": [
        "# Brute for approach of quadratic time complexity O(n^2)\n",
        "def find_duplicate_number(arr):\n",
        "    n = len(arr)\n",
        "    for i in range(0, n):\n",
        "      duplicate = arr[i]\n",
        "      for j in range(i+1, n):\n",
        "        if duplicate == arr[j]:\n",
        "          return duplicate\n",
        "\n",
        "\n",
        "\n",
        "\n",
        "\n"
      ]
    },
    {
      "cell_type": "code",
      "source": [
        "# Approach using hashmap with o(n) time complexity\n",
        "def find_duplicate(arr):\n",
        "    dic = dict()\n",
        "    for element in arr:\n",
        "        if element in dic:\n",
        "            dic[element] += 1\n",
        "        else:\n",
        "            dic[element] = 0\n",
        "\n",
        "    arr = sorted(dic, key=dic.get, reverse=True)[:1]\n",
        "    return arr[0]"
      ],
      "metadata": {
        "id": "hDloZfV5zdc6"
      },
      "execution_count": 117,
      "outputs": []
    },
    {
      "cell_type": "code",
      "source": [
        "#arr = [1, 2, 1, 3, 4]\n",
        "arr = [0, 7, 2, 5, 4, 4, 6, 1, 3]\n",
        "#find_duplicate_number(arr)\n",
        "find_duplicate(arr)"
      ],
      "metadata": {
        "colab": {
          "base_uri": "https://localhost:8080/"
        },
        "id": "EzqrxYTTKbka",
        "outputId": "74b9e6a7-8652-41ee-9a26-a7fcccb31886"
      },
      "execution_count": 119,
      "outputs": [
        {
          "output_type": "execute_result",
          "data": {
            "text/plain": [
              "4"
            ]
          },
          "metadata": {},
          "execution_count": 119
        }
      ]
    },
    {
      "cell_type": "code",
      "source": [
        "import sys\n",
        "INT_MIN = -sys.maxsize - 1\n",
        "max_sum = INT_MIN\n",
        "print(max_sum)"
      ],
      "metadata": {
        "colab": {
          "base_uri": "https://localhost:8080/"
        },
        "id": "vxMeEgyeN34Y",
        "outputId": "6e88d019-11a8-4b70-e203-373b5bd5fb86"
      },
      "execution_count": 2,
      "outputs": [
        {
          "output_type": "stream",
          "name": "stdout",
          "text": [
            "-9223372036854775808\n"
          ]
        }
      ]
    },
    {
      "cell_type": "code",
      "source": [
        "## Given an array of integers of size ‘n’, Our aim is to calculate the maximum sum of ‘k’ consecutive elements in the array.\n",
        "\n",
        "import sys\n",
        "INT_MIN = -sys.maxsize -1\n",
        "\n",
        "def max_sum(arr, n , k):\n",
        "\n",
        "  max_seq_sum = INT_MIN\n",
        "\n",
        "  for i in range(n-k+1):\n",
        "    current_sum = 0\n",
        "    for j in range(k):\n",
        "      current_sum = current_sum + arr[i+j]\n",
        "\n",
        "  max_seq_sum = max(current_sum, max_seq_sum)\n",
        "  return max_seq_sum"
      ],
      "metadata": {
        "id": "6kGcmE8H7ii2"
      },
      "execution_count": 4,
      "outputs": []
    },
    {
      "cell_type": "code",
      "source": [
        "arr = [1, 4, 2, 10, 2,\n",
        "       3, 1, 0, 20]\n",
        "n = len(arr)\n",
        "k = 4\n",
        "print(max_sum(arr, n , k))"
      ],
      "metadata": {
        "colab": {
          "base_uri": "https://localhost:8080/"
        },
        "id": "W898I-ob2R6G",
        "outputId": "1d83d097-b7a0-4211-a14e-4c411f8d09f8"
      },
      "execution_count": 5,
      "outputs": [
        {
          "output_type": "stream",
          "name": "stdout",
          "text": [
            "24\n"
          ]
        }
      ]
    },
    {
      "cell_type": "markdown",
      "source": [
        "Problem: Find Kth Largest Element in an array"
      ],
      "metadata": {
        "id": "agSxpK6bch5j"
      }
    },
    {
      "cell_type": "code",
      "source": [
        "import random\n",
        "def kth_largest_in_array(numbers, k):\n",
        "    n = len(numbers)\n",
        "    helper(numbers,0, n-1, n-k)\n",
        "    return numbers[n-k]\n",
        "\n",
        "def helper(numbers, start, end, index):\n",
        "    if start == end:\n",
        "      return\n",
        "\n",
        "    pivot = random.randint(start, end)\n",
        "    (numbers[start], numbers[pivot]) = (numbers[pivot], numbers[start])\n",
        "    g = start\n",
        "    r = start + 1\n",
        "    while r <= end:\n",
        "      if numbers[r] <= numbers[start]:\n",
        "        g+=1\n",
        "        (numbers[r], numbers[g]) = (numbers[g], numbers[r])\n",
        "      r+=1\n",
        "    (numbers[start], numbers[g]) = (numbers[g], numbers[start])\n",
        "\n",
        "    if g == index:\n",
        "      return numbers\n",
        "    elif g < index:\n",
        "      helper(numbers, g+1, end, index)\n",
        "    else:\n",
        "      helper(numbers, start, g-1, index)\n",
        "\n"
      ],
      "metadata": {
        "id": "X_d9e6-qceqg"
      },
      "execution_count": 8,
      "outputs": []
    },
    {
      "cell_type": "code",
      "source": [
        "numbers = [2, 8 , 9, 6, 7, 4, 1, 3]\n",
        "k = 4\n",
        "print(kth_largest_in_array(numbers, k))"
      ],
      "metadata": {
        "colab": {
          "base_uri": "https://localhost:8080/"
        },
        "id": "xQL7WWGwgnja",
        "outputId": "77b4ce4c-dad2-4c92-9e05-11cbb065433f"
      },
      "execution_count": 9,
      "outputs": [
        {
          "output_type": "stream",
          "name": "stdout",
          "text": [
            "6\n"
          ]
        }
      ]
    },
    {
      "cell_type": "code",
      "source": [
        "class Employee:\n",
        "    def __init__(self,Name,Age,Salary,Gender):\n",
        "         self.Name = Name\n",
        "         self.Age = Age\n",
        "         self.Salary= Salary\n",
        "         self.Gender = Gender\n",
        "\n",
        "    def show_employee_details(self):\n",
        "         print(\"Name of the employee is \",self.Name)\n",
        "         print(\"Age of the employee is \",self.Age)\n",
        "         print(\"Salary of the employee is \",self.Salary)\n",
        "         print(\"gender of the employee is \",self.Gender)\n"
      ],
      "metadata": {
        "id": "fvVLwuyfAkDJ"
      },
      "execution_count": 23,
      "outputs": []
    },
    {
      "cell_type": "code",
      "source": [
        "e1 = Employee('Shubham',25,25000,'male')\n",
        "e1. show_employee_details()"
      ],
      "metadata": {
        "colab": {
          "base_uri": "https://localhost:8080/"
        },
        "id": "NF10LrXeA5M8",
        "outputId": "d130e665-56b7-4d77-9f1d-8ac0b1198a99"
      },
      "execution_count": 24,
      "outputs": [
        {
          "output_type": "stream",
          "name": "stdout",
          "text": [
            "Name of the employee is  Shubham\n",
            "Age of the employee is  25\n",
            "Salary of the employee is  25000\n",
            "gender of the employee is  male\n"
          ]
        }
      ]
    },
    {
      "cell_type": "markdown",
      "source": [
        "# Linked List"
      ],
      "metadata": {
        "id": "rBkxRlrT8rcH"
      }
    },
    {
      "cell_type": "markdown",
      "source": [
        "Creation of Linked List"
      ],
      "metadata": {
        "id": "h8B-3dUj8zvx"
      }
    },
    {
      "cell_type": "code",
      "source": [
        "class Node:\n",
        "  def __init__(self, dataval=None):\n",
        "      self.dataval = dataval\n",
        "      self.nextval = None\n",
        "\n",
        "\n",
        "\n",
        "\n"
      ],
      "metadata": {
        "id": "pbYCE37C8oiJ"
      },
      "execution_count": 10,
      "outputs": []
    },
    {
      "cell_type": "code",
      "source": [
        "class SLinkedList:\n",
        "  def __init__(self):\n",
        "      self.headval = None"
      ],
      "metadata": {
        "id": "-uThPBltBj6q"
      },
      "execution_count": 8,
      "outputs": []
    },
    {
      "cell_type": "code",
      "source": [
        "list1 =  SLinkedList()\n",
        "\n",
        "list1.headval = Node('Mon')\n",
        "e2 = Node(\"Tue\")\n",
        "e3 = Node(\"Wed\")\n",
        "\n",
        "#Link first node to second node\n",
        "list1.headval.nextval = e2\n",
        "\n",
        "#Link second node to third node\n",
        "e2.nextval = e3\n"
      ],
      "metadata": {
        "colab": {
          "base_uri": "https://localhost:8080/"
        },
        "id": "AFYhg-GhBayp",
        "outputId": "618839ef-08c6-4c48-8580-97bf22bd27d6"
      },
      "execution_count": 15,
      "outputs": [
        {
          "output_type": "stream",
          "name": "stdout",
          "text": [
            "<__main__.SLinkedList object at 0x7fb4dba21630>\n"
          ]
        }
      ]
    },
    {
      "cell_type": "markdown",
      "source": [
        "Traversing a Linked List"
      ],
      "metadata": {
        "id": "Pqoz2DLGa5E3"
      }
    },
    {
      "cell_type": "code",
      "source": [
        "def listprint(self):\n",
        "  printval = self.headval\n",
        "  while printval is not None:\n",
        "    print(printval.dataval)\n",
        "    printval = printval.nextval\n",
        "\n",
        "\n"
      ],
      "metadata": {
        "id": "Oz8GfV56a_ck"
      },
      "execution_count": 19,
      "outputs": []
    },
    {
      "cell_type": "code",
      "source": [
        "list = SLinkedList()\n",
        "list.headval = Node('Mon')\n",
        "e2 = Node('Tue')\n",
        "e3 = Node('Wed')\n",
        "\n",
        "list.headval.nextval = e2\n",
        "\n",
        "e2.nextval = e3\n",
        "listprint(list)"
      ],
      "metadata": {
        "colab": {
          "base_uri": "https://localhost:8080/"
        },
        "id": "r9grOICycyK-",
        "outputId": "53c920d2-9abe-4c77-e4ff-ca523a4b7ed6"
      },
      "execution_count": 21,
      "outputs": [
        {
          "output_type": "stream",
          "name": "stdout",
          "text": [
            "Mon\n",
            "Tue\n",
            "Wed\n"
          ]
        }
      ]
    },
    {
      "cell_type": "markdown",
      "source": [
        "**Insertion in Linked List**"
      ],
      "metadata": {
        "id": "a1a8F_UydWNG"
      }
    },
    {
      "cell_type": "markdown",
      "source": [
        "Insertion at the beginning"
      ],
      "metadata": {
        "id": "FK7R0-ARdcJH"
      }
    },
    {
      "cell_type": "code",
      "source": [
        "class SLinkedListN:\n",
        "  def __init__(self):\n",
        "      self.headval = None\n",
        "  #Inserting at beginning\n",
        "  def at_beginning(self, newdata):\n",
        "    newnode = Node(newdata)\n",
        "    newnode.nextval = self.headval\n",
        "    self.headval = newnode\n",
        "\n",
        "  #Inserting at End\n",
        "\n",
        "  def at_end(self, newdata):\n",
        "    newnode = Node(newdata)\n",
        "    if self.headval is None:\n",
        "       self.headval = newnode\n",
        "       return\n",
        "    last = self.headval\n",
        "    while last.nextval:\n",
        "      last = last.nextval\n",
        "    last.nextval = newnode\n",
        "\n",
        "  def in_between(self, middle_node, newdata):\n",
        "    if middle_node is None:\n",
        "      print(\"Mentioned Node is absent\")\n",
        "      return\n",
        "\n",
        "    newnode = Node(newdata)\n",
        "    newnode.nextval = middle_node.nextval\n",
        "    middle_node.nextval = newnode\n",
        "\n",
        "\n",
        "  def listprint(self):\n",
        "    printval = self.headval\n",
        "    while printval is not None:\n",
        "      print(printval.dataval)\n",
        "      printval = printval.nextval\n",
        "\n",
        "\n",
        "\n",
        "list2 = SLinkedListN()\n",
        "list2.headval = Node(\"Mon\")\n",
        "e2 = Node(\"Tue\")\n",
        "e3 = Node(\"Wed\")\n",
        "\n",
        "list2.headval.nextval = e2\n",
        "e2.nextval = e3\n",
        "\n",
        "list2.at_beginning(\"Sun\")\n",
        "\n",
        "list2.at_end(\"Thu\")\n",
        "\n",
        "list2.in_between(list2.headval.nextval.nextval, \"Fri\")\n",
        "list2.listprint()\n"
      ],
      "metadata": {
        "colab": {
          "base_uri": "https://localhost:8080/"
        },
        "id": "3GTio6Cndq3W",
        "outputId": "63fa63ce-a000-4d79-dcbc-f703a189ab45"
      },
      "execution_count": 36,
      "outputs": [
        {
          "output_type": "stream",
          "name": "stdout",
          "text": [
            "Sun\n",
            "Mon\n",
            "Tue\n",
            "Fri\n",
            "Wed\n",
            "Thu\n"
          ]
        }
      ]
    }
  ]
}