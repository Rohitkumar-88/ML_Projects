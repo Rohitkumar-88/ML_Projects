{
  "cells": [
    {
      "cell_type": "markdown",
      "metadata": {
        "id": "view-in-github",
        "colab_type": "text"
      },
      "source": [
        "<a href=\"https://colab.research.google.com/github/Rohitkumar-88/ML_Projects/blob/Colab_Notebooks/NER_Prediction_with_LSTM_and_Transformers.ipynb\" target=\"_parent\"><img src=\"https://colab.research.google.com/assets/colab-badge.svg\" alt=\"Open In Colab\"/></a>"
      ]
    },
    {
      "cell_type": "markdown",
      "metadata": {
        "id": "Y7zH6EHS76e5"
      },
      "source": [
        "Download the ner_dataset.csv file from this site (https://www.kaggle.com/abhinavwalia95/entity-annotated-corpus?select=ner_dataset.csv)"
      ]
    },
    {
      "cell_type": "code",
      "execution_count": null,
      "metadata": {
        "colab": {
          "base_uri": "https://localhost:8080/"
        },
        "id": "muz-BO2B2-PJ",
        "outputId": "daa844c1-0c57-460e-da98-b7e6f569b087"
      },
      "outputs": [
        {
          "name": "stdout",
          "output_type": "stream",
          "text": [
            "--2023-07-11 03:31:19--  https://raw.githubusercontent.com/amm-ik/ml-datasets/main/module-5/ner_dataset.csv\n",
            "Resolving raw.githubusercontent.com (raw.githubusercontent.com)... 185.199.110.133, 185.199.111.133, 185.199.108.133, ...\n",
            "Connecting to raw.githubusercontent.com (raw.githubusercontent.com)|185.199.110.133|:443... connected.\n",
            "HTTP request sent, awaiting response... 200 OK\n",
            "Length: 15208151 (15M) [text/plain]\n",
            "Saving to: ‘ner_dataset.csv’\n",
            "\n",
            "ner_dataset.csv     100%[===================>]  14.50M  --.-KB/s    in 0.05s   \n",
            "\n",
            "2023-07-11 03:31:22 (300 MB/s) - ‘ner_dataset.csv’ saved [15208151/15208151]\n",
            "\n"
          ]
        }
      ],
      "source": [
        "!wget https://raw.githubusercontent.com/amm-ik/ml-datasets/main/module-5/ner_dataset.csv"
      ]
    },
    {
      "cell_type": "markdown",
      "metadata": {
        "id": "7oB8_C6j8MNv"
      },
      "source": [
        "Import the libraries we will need."
      ]
    },
    {
      "cell_type": "code",
      "execution_count": null,
      "metadata": {
        "id": "mpzwFZrn8Nqw"
      },
      "outputs": [],
      "source": [
        "import pandas as pd\n",
        "import torch\n",
        "import torch.nn as nn\n",
        "import torch.nn.functional as F\n",
        "import torch.optim as optim\n",
        "import numpy as np\n",
        "from itertools import chain\n",
        "import tensorflow"
      ]
    },
    {
      "cell_type": "markdown",
      "metadata": {
        "id": "2NBhBZo78WNY"
      },
      "source": [
        "Let's look at the structure of the data"
      ]
    },
    {
      "cell_type": "code",
      "execution_count": null,
      "metadata": {
        "colab": {
          "base_uri": "https://localhost:8080/",
          "height": 363
        },
        "id": "e9Vw9gUO8W_x",
        "outputId": "a0944c60-6019-4bd4-f9f2-15446b4952e7"
      },
      "outputs": [
        {
          "data": {
            "text/html": [
              "\n",
              "  <div id=\"df-b139f551-e063-4cf8-88c8-9c86f8379833\">\n",
              "    <div class=\"colab-df-container\">\n",
              "      <div>\n",
              "<style scoped>\n",
              "    .dataframe tbody tr th:only-of-type {\n",
              "        vertical-align: middle;\n",
              "    }\n",
              "\n",
              "    .dataframe tbody tr th {\n",
              "        vertical-align: top;\n",
              "    }\n",
              "\n",
              "    .dataframe thead th {\n",
              "        text-align: right;\n",
              "    }\n",
              "</style>\n",
              "<table border=\"1\" class=\"dataframe\">\n",
              "  <thead>\n",
              "    <tr style=\"text-align: right;\">\n",
              "      <th></th>\n",
              "      <th>Sentence #</th>\n",
              "      <th>Word</th>\n",
              "      <th>POS</th>\n",
              "      <th>Tag</th>\n",
              "    </tr>\n",
              "  </thead>\n",
              "  <tbody>\n",
              "    <tr>\n",
              "      <th>0</th>\n",
              "      <td>Sentence: 1</td>\n",
              "      <td>Thousands</td>\n",
              "      <td>NNS</td>\n",
              "      <td>O</td>\n",
              "    </tr>\n",
              "    <tr>\n",
              "      <th>1</th>\n",
              "      <td>NaN</td>\n",
              "      <td>of</td>\n",
              "      <td>IN</td>\n",
              "      <td>O</td>\n",
              "    </tr>\n",
              "    <tr>\n",
              "      <th>2</th>\n",
              "      <td>NaN</td>\n",
              "      <td>demonstrators</td>\n",
              "      <td>NNS</td>\n",
              "      <td>O</td>\n",
              "    </tr>\n",
              "    <tr>\n",
              "      <th>3</th>\n",
              "      <td>NaN</td>\n",
              "      <td>have</td>\n",
              "      <td>VBP</td>\n",
              "      <td>O</td>\n",
              "    </tr>\n",
              "    <tr>\n",
              "      <th>4</th>\n",
              "      <td>NaN</td>\n",
              "      <td>marched</td>\n",
              "      <td>VBN</td>\n",
              "      <td>O</td>\n",
              "    </tr>\n",
              "    <tr>\n",
              "      <th>5</th>\n",
              "      <td>NaN</td>\n",
              "      <td>through</td>\n",
              "      <td>IN</td>\n",
              "      <td>O</td>\n",
              "    </tr>\n",
              "    <tr>\n",
              "      <th>6</th>\n",
              "      <td>NaN</td>\n",
              "      <td>London</td>\n",
              "      <td>NNP</td>\n",
              "      <td>B-geo</td>\n",
              "    </tr>\n",
              "    <tr>\n",
              "      <th>7</th>\n",
              "      <td>NaN</td>\n",
              "      <td>to</td>\n",
              "      <td>TO</td>\n",
              "      <td>O</td>\n",
              "    </tr>\n",
              "    <tr>\n",
              "      <th>8</th>\n",
              "      <td>NaN</td>\n",
              "      <td>protest</td>\n",
              "      <td>VB</td>\n",
              "      <td>O</td>\n",
              "    </tr>\n",
              "    <tr>\n",
              "      <th>9</th>\n",
              "      <td>NaN</td>\n",
              "      <td>the</td>\n",
              "      <td>DT</td>\n",
              "      <td>O</td>\n",
              "    </tr>\n",
              "  </tbody>\n",
              "</table>\n",
              "</div>\n",
              "      <button class=\"colab-df-convert\" onclick=\"convertToInteractive('df-b139f551-e063-4cf8-88c8-9c86f8379833')\"\n",
              "              title=\"Convert this dataframe to an interactive table.\"\n",
              "              style=\"display:none;\">\n",
              "        \n",
              "  <svg xmlns=\"http://www.w3.org/2000/svg\" height=\"24px\"viewBox=\"0 0 24 24\"\n",
              "       width=\"24px\">\n",
              "    <path d=\"M0 0h24v24H0V0z\" fill=\"none\"/>\n",
              "    <path d=\"M18.56 5.44l.94 2.06.94-2.06 2.06-.94-2.06-.94-.94-2.06-.94 2.06-2.06.94zm-11 1L8.5 8.5l.94-2.06 2.06-.94-2.06-.94L8.5 2.5l-.94 2.06-2.06.94zm10 10l.94 2.06.94-2.06 2.06-.94-2.06-.94-.94-2.06-.94 2.06-2.06.94z\"/><path d=\"M17.41 7.96l-1.37-1.37c-.4-.4-.92-.59-1.43-.59-.52 0-1.04.2-1.43.59L10.3 9.45l-7.72 7.72c-.78.78-.78 2.05 0 2.83L4 21.41c.39.39.9.59 1.41.59.51 0 1.02-.2 1.41-.59l7.78-7.78 2.81-2.81c.8-.78.8-2.07 0-2.86zM5.41 20L4 18.59l7.72-7.72 1.47 1.35L5.41 20z\"/>\n",
              "  </svg>\n",
              "      </button>\n",
              "      \n",
              "  <style>\n",
              "    .colab-df-container {\n",
              "      display:flex;\n",
              "      flex-wrap:wrap;\n",
              "      gap: 12px;\n",
              "    }\n",
              "\n",
              "    .colab-df-convert {\n",
              "      background-color: #E8F0FE;\n",
              "      border: none;\n",
              "      border-radius: 50%;\n",
              "      cursor: pointer;\n",
              "      display: none;\n",
              "      fill: #1967D2;\n",
              "      height: 32px;\n",
              "      padding: 0 0 0 0;\n",
              "      width: 32px;\n",
              "    }\n",
              "\n",
              "    .colab-df-convert:hover {\n",
              "      background-color: #E2EBFA;\n",
              "      box-shadow: 0px 1px 2px rgba(60, 64, 67, 0.3), 0px 1px 3px 1px rgba(60, 64, 67, 0.15);\n",
              "      fill: #174EA6;\n",
              "    }\n",
              "\n",
              "    [theme=dark] .colab-df-convert {\n",
              "      background-color: #3B4455;\n",
              "      fill: #D2E3FC;\n",
              "    }\n",
              "\n",
              "    [theme=dark] .colab-df-convert:hover {\n",
              "      background-color: #434B5C;\n",
              "      box-shadow: 0px 1px 3px 1px rgba(0, 0, 0, 0.15);\n",
              "      filter: drop-shadow(0px 1px 2px rgba(0, 0, 0, 0.3));\n",
              "      fill: #FFFFFF;\n",
              "    }\n",
              "  </style>\n",
              "\n",
              "      <script>\n",
              "        const buttonEl =\n",
              "          document.querySelector('#df-b139f551-e063-4cf8-88c8-9c86f8379833 button.colab-df-convert');\n",
              "        buttonEl.style.display =\n",
              "          google.colab.kernel.accessAllowed ? 'block' : 'none';\n",
              "\n",
              "        async function convertToInteractive(key) {\n",
              "          const element = document.querySelector('#df-b139f551-e063-4cf8-88c8-9c86f8379833');\n",
              "          const dataTable =\n",
              "            await google.colab.kernel.invokeFunction('convertToInteractive',\n",
              "                                                     [key], {});\n",
              "          if (!dataTable) return;\n",
              "\n",
              "          const docLinkHtml = 'Like what you see? Visit the ' +\n",
              "            '<a target=\"_blank\" href=https://colab.research.google.com/notebooks/data_table.ipynb>data table notebook</a>'\n",
              "            + ' to learn more about interactive tables.';\n",
              "          element.innerHTML = '';\n",
              "          dataTable['output_type'] = 'display_data';\n",
              "          await google.colab.output.renderOutput(dataTable, element);\n",
              "          const docLink = document.createElement('div');\n",
              "          docLink.innerHTML = docLinkHtml;\n",
              "          element.appendChild(docLink);\n",
              "        }\n",
              "      </script>\n",
              "    </div>\n",
              "  </div>\n",
              "  "
            ],
            "text/plain": [
              "    Sentence #           Word  POS    Tag\n",
              "0  Sentence: 1      Thousands  NNS      O\n",
              "1          NaN             of   IN      O\n",
              "2          NaN  demonstrators  NNS      O\n",
              "3          NaN           have  VBP      O\n",
              "4          NaN        marched  VBN      O\n",
              "5          NaN        through   IN      O\n",
              "6          NaN         London  NNP  B-geo\n",
              "7          NaN             to   TO      O\n",
              "8          NaN        protest   VB      O\n",
              "9          NaN            the   DT      O"
            ]
          },
          "execution_count": 3,
          "metadata": {},
          "output_type": "execute_result"
        }
      ],
      "source": [
        "data = pd.read_csv('ner_dataset.csv', encoding= 'unicode_escape')\n",
        "data.head(10)"
      ]
    },
    {
      "cell_type": "markdown",
      "metadata": {
        "id": "AIQ98_bo8hs3"
      },
      "source": [
        "We next need to create a mapping between tokens, tags, and ids. Each token should map to a unique id, and each tag should map to a unique class."
      ]
    },
    {
      "cell_type": "code",
      "execution_count": null,
      "metadata": {
        "colab": {
          "base_uri": "https://localhost:8080/"
        },
        "id": "p5k82AIe8jAE",
        "outputId": "1ea29fae-13a6-4ff0-abe1-fa5aaab64c79"
      },
      "outputs": [
        {
          "name": "stdout",
          "output_type": "stream",
          "text": [
            "Token for id 0 : four-day\n",
            "Tag for id 0:  B-per\n"
          ]
        }
      ],
      "source": [
        "def get_dict_map(data, token_or_tag):\n",
        "    tok2idx = {}\n",
        "    idx2tok = {}\n",
        "\n",
        "    if token_or_tag == 'token':\n",
        "        vocab = list(set(data['Word'].to_list()))\n",
        "    else:\n",
        "        vocab = list(set(data['Tag'].to_list()))\n",
        "\n",
        "    idx2tok = {idx:tok for  idx, tok in enumerate(vocab)}\n",
        "    tok2idx = {tok:idx for  idx, tok in enumerate(vocab)}\n",
        "    return tok2idx, idx2tok\n",
        "\n",
        "token2idx, idx2token = get_dict_map(data, 'token')\n",
        "tag2idx, idx2tag = get_dict_map(data, 'tag')\n",
        "\n",
        "print(\"Token for id 0 :\", idx2token[0])\n",
        "print(\"Tag for id 0: \", idx2tag[0])"
      ]
    },
    {
      "cell_type": "code",
      "execution_count": null,
      "metadata": {
        "colab": {
          "base_uri": "https://localhost:8080/",
          "height": 363
        },
        "id": "daKNoy309NS7",
        "outputId": "fab947dc-b352-416b-e33e-1bf1c6f3b432"
      },
      "outputs": [
        {
          "data": {
            "text/html": [
              "\n",
              "  <div id=\"df-37f3ccbc-58ce-47fe-a499-8aa16a7a848b\">\n",
              "    <div class=\"colab-df-container\">\n",
              "      <div>\n",
              "<style scoped>\n",
              "    .dataframe tbody tr th:only-of-type {\n",
              "        vertical-align: middle;\n",
              "    }\n",
              "\n",
              "    .dataframe tbody tr th {\n",
              "        vertical-align: top;\n",
              "    }\n",
              "\n",
              "    .dataframe thead th {\n",
              "        text-align: right;\n",
              "    }\n",
              "</style>\n",
              "<table border=\"1\" class=\"dataframe\">\n",
              "  <thead>\n",
              "    <tr style=\"text-align: right;\">\n",
              "      <th></th>\n",
              "      <th>Sentence #</th>\n",
              "      <th>Word</th>\n",
              "      <th>POS</th>\n",
              "      <th>Tag</th>\n",
              "      <th>Word_idx</th>\n",
              "      <th>Tag_idx</th>\n",
              "    </tr>\n",
              "  </thead>\n",
              "  <tbody>\n",
              "    <tr>\n",
              "      <th>0</th>\n",
              "      <td>Sentence: 1</td>\n",
              "      <td>Thousands</td>\n",
              "      <td>NNS</td>\n",
              "      <td>O</td>\n",
              "      <td>3766</td>\n",
              "      <td>2</td>\n",
              "    </tr>\n",
              "    <tr>\n",
              "      <th>1</th>\n",
              "      <td>NaN</td>\n",
              "      <td>of</td>\n",
              "      <td>IN</td>\n",
              "      <td>O</td>\n",
              "      <td>15128</td>\n",
              "      <td>2</td>\n",
              "    </tr>\n",
              "    <tr>\n",
              "      <th>2</th>\n",
              "      <td>NaN</td>\n",
              "      <td>demonstrators</td>\n",
              "      <td>NNS</td>\n",
              "      <td>O</td>\n",
              "      <td>4472</td>\n",
              "      <td>2</td>\n",
              "    </tr>\n",
              "    <tr>\n",
              "      <th>3</th>\n",
              "      <td>NaN</td>\n",
              "      <td>have</td>\n",
              "      <td>VBP</td>\n",
              "      <td>O</td>\n",
              "      <td>13943</td>\n",
              "      <td>2</td>\n",
              "    </tr>\n",
              "    <tr>\n",
              "      <th>4</th>\n",
              "      <td>NaN</td>\n",
              "      <td>marched</td>\n",
              "      <td>VBN</td>\n",
              "      <td>O</td>\n",
              "      <td>25841</td>\n",
              "      <td>2</td>\n",
              "    </tr>\n",
              "    <tr>\n",
              "      <th>5</th>\n",
              "      <td>NaN</td>\n",
              "      <td>through</td>\n",
              "      <td>IN</td>\n",
              "      <td>O</td>\n",
              "      <td>14753</td>\n",
              "      <td>2</td>\n",
              "    </tr>\n",
              "    <tr>\n",
              "      <th>6</th>\n",
              "      <td>NaN</td>\n",
              "      <td>London</td>\n",
              "      <td>NNP</td>\n",
              "      <td>B-geo</td>\n",
              "      <td>8278</td>\n",
              "      <td>6</td>\n",
              "    </tr>\n",
              "    <tr>\n",
              "      <th>7</th>\n",
              "      <td>NaN</td>\n",
              "      <td>to</td>\n",
              "      <td>TO</td>\n",
              "      <td>O</td>\n",
              "      <td>32297</td>\n",
              "      <td>2</td>\n",
              "    </tr>\n",
              "    <tr>\n",
              "      <th>8</th>\n",
              "      <td>NaN</td>\n",
              "      <td>protest</td>\n",
              "      <td>VB</td>\n",
              "      <td>O</td>\n",
              "      <td>14431</td>\n",
              "      <td>2</td>\n",
              "    </tr>\n",
              "    <tr>\n",
              "      <th>9</th>\n",
              "      <td>NaN</td>\n",
              "      <td>the</td>\n",
              "      <td>DT</td>\n",
              "      <td>O</td>\n",
              "      <td>35142</td>\n",
              "      <td>2</td>\n",
              "    </tr>\n",
              "  </tbody>\n",
              "</table>\n",
              "</div>\n",
              "      <button class=\"colab-df-convert\" onclick=\"convertToInteractive('df-37f3ccbc-58ce-47fe-a499-8aa16a7a848b')\"\n",
              "              title=\"Convert this dataframe to an interactive table.\"\n",
              "              style=\"display:none;\">\n",
              "        \n",
              "  <svg xmlns=\"http://www.w3.org/2000/svg\" height=\"24px\"viewBox=\"0 0 24 24\"\n",
              "       width=\"24px\">\n",
              "    <path d=\"M0 0h24v24H0V0z\" fill=\"none\"/>\n",
              "    <path d=\"M18.56 5.44l.94 2.06.94-2.06 2.06-.94-2.06-.94-.94-2.06-.94 2.06-2.06.94zm-11 1L8.5 8.5l.94-2.06 2.06-.94-2.06-.94L8.5 2.5l-.94 2.06-2.06.94zm10 10l.94 2.06.94-2.06 2.06-.94-2.06-.94-.94-2.06-.94 2.06-2.06.94z\"/><path d=\"M17.41 7.96l-1.37-1.37c-.4-.4-.92-.59-1.43-.59-.52 0-1.04.2-1.43.59L10.3 9.45l-7.72 7.72c-.78.78-.78 2.05 0 2.83L4 21.41c.39.39.9.59 1.41.59.51 0 1.02-.2 1.41-.59l7.78-7.78 2.81-2.81c.8-.78.8-2.07 0-2.86zM5.41 20L4 18.59l7.72-7.72 1.47 1.35L5.41 20z\"/>\n",
              "  </svg>\n",
              "      </button>\n",
              "      \n",
              "  <style>\n",
              "    .colab-df-container {\n",
              "      display:flex;\n",
              "      flex-wrap:wrap;\n",
              "      gap: 12px;\n",
              "    }\n",
              "\n",
              "    .colab-df-convert {\n",
              "      background-color: #E8F0FE;\n",
              "      border: none;\n",
              "      border-radius: 50%;\n",
              "      cursor: pointer;\n",
              "      display: none;\n",
              "      fill: #1967D2;\n",
              "      height: 32px;\n",
              "      padding: 0 0 0 0;\n",
              "      width: 32px;\n",
              "    }\n",
              "\n",
              "    .colab-df-convert:hover {\n",
              "      background-color: #E2EBFA;\n",
              "      box-shadow: 0px 1px 2px rgba(60, 64, 67, 0.3), 0px 1px 3px 1px rgba(60, 64, 67, 0.15);\n",
              "      fill: #174EA6;\n",
              "    }\n",
              "\n",
              "    [theme=dark] .colab-df-convert {\n",
              "      background-color: #3B4455;\n",
              "      fill: #D2E3FC;\n",
              "    }\n",
              "\n",
              "    [theme=dark] .colab-df-convert:hover {\n",
              "      background-color: #434B5C;\n",
              "      box-shadow: 0px 1px 3px 1px rgba(0, 0, 0, 0.15);\n",
              "      filter: drop-shadow(0px 1px 2px rgba(0, 0, 0, 0.3));\n",
              "      fill: #FFFFFF;\n",
              "    }\n",
              "  </style>\n",
              "\n",
              "      <script>\n",
              "        const buttonEl =\n",
              "          document.querySelector('#df-37f3ccbc-58ce-47fe-a499-8aa16a7a848b button.colab-df-convert');\n",
              "        buttonEl.style.display =\n",
              "          google.colab.kernel.accessAllowed ? 'block' : 'none';\n",
              "\n",
              "        async function convertToInteractive(key) {\n",
              "          const element = document.querySelector('#df-37f3ccbc-58ce-47fe-a499-8aa16a7a848b');\n",
              "          const dataTable =\n",
              "            await google.colab.kernel.invokeFunction('convertToInteractive',\n",
              "                                                     [key], {});\n",
              "          if (!dataTable) return;\n",
              "\n",
              "          const docLinkHtml = 'Like what you see? Visit the ' +\n",
              "            '<a target=\"_blank\" href=https://colab.research.google.com/notebooks/data_table.ipynb>data table notebook</a>'\n",
              "            + ' to learn more about interactive tables.';\n",
              "          element.innerHTML = '';\n",
              "          dataTable['output_type'] = 'display_data';\n",
              "          await google.colab.output.renderOutput(dataTable, element);\n",
              "          const docLink = document.createElement('div');\n",
              "          docLink.innerHTML = docLinkHtml;\n",
              "          element.appendChild(docLink);\n",
              "        }\n",
              "      </script>\n",
              "    </div>\n",
              "  </div>\n",
              "  "
            ],
            "text/plain": [
              "    Sentence #           Word  POS    Tag  Word_idx  Tag_idx\n",
              "0  Sentence: 1      Thousands  NNS      O      3766        2\n",
              "1          NaN             of   IN      O     15128        2\n",
              "2          NaN  demonstrators  NNS      O      4472        2\n",
              "3          NaN           have  VBP      O     13943        2\n",
              "4          NaN        marched  VBN      O     25841        2\n",
              "5          NaN        through   IN      O     14753        2\n",
              "6          NaN         London  NNP  B-geo      8278        6\n",
              "7          NaN             to   TO      O     32297        2\n",
              "8          NaN        protest   VB      O     14431        2\n",
              "9          NaN            the   DT      O     35142        2"
            ]
          },
          "execution_count": 5,
          "metadata": {},
          "output_type": "execute_result"
        }
      ],
      "source": [
        "data['Word_idx'] = data['Word'].map(token2idx)\n",
        "data['Tag_idx'] = data['Tag'].map(tag2idx)\n",
        "data.head(10)"
      ]
    },
    {
      "cell_type": "markdown",
      "metadata": {
        "id": "hG7ncBer9VxS"
      },
      "source": [
        "Now you might have noticed that each sentece is split into multiple rows. We need to transform this data into sequences of words and tags."
      ]
    },
    {
      "cell_type": "code",
      "execution_count": null,
      "metadata": {
        "colab": {
          "base_uri": "https://localhost:8080/",
          "height": 636
        },
        "id": "k2ZhmDBK9XFq",
        "outputId": "0ea0bb07-2268-4bdf-8dfa-464f44074c4d"
      },
      "outputs": [
        {
          "name": "stderr",
          "output_type": "stream",
          "text": [
            "<ipython-input-6-02e79fa7aa5c>:4: FutureWarning: Indexing with multiple keys (implicitly converted to a tuple of keys) will be deprecated, use a list instead.\n",
            "  data_group = data_fillna.groupby(\n"
          ]
        },
        {
          "data": {
            "text/html": [
              "\n",
              "  <div id=\"df-3ae75e54-dbb9-430b-852b-3323e865a2be\">\n",
              "    <div class=\"colab-df-container\">\n",
              "      <div>\n",
              "<style scoped>\n",
              "    .dataframe tbody tr th:only-of-type {\n",
              "        vertical-align: middle;\n",
              "    }\n",
              "\n",
              "    .dataframe tbody tr th {\n",
              "        vertical-align: top;\n",
              "    }\n",
              "\n",
              "    .dataframe thead th {\n",
              "        text-align: right;\n",
              "    }\n",
              "</style>\n",
              "<table border=\"1\" class=\"dataframe\">\n",
              "  <thead>\n",
              "    <tr style=\"text-align: right;\">\n",
              "      <th></th>\n",
              "      <th>Sentence #</th>\n",
              "      <th>Word</th>\n",
              "      <th>POS</th>\n",
              "      <th>Tag</th>\n",
              "      <th>Word_idx</th>\n",
              "      <th>Tag_idx</th>\n",
              "    </tr>\n",
              "  </thead>\n",
              "  <tbody>\n",
              "    <tr>\n",
              "      <th>0</th>\n",
              "      <td>Sentence: 1</td>\n",
              "      <td>[Thousands, of, demonstrators, have, marched, ...</td>\n",
              "      <td>[NNS, IN, NNS, VBP, VBN, IN, NNP, TO, VB, DT, ...</td>\n",
              "      <td>[O, O, O, O, O, O, B-geo, O, O, O, O, O, B-geo...</td>\n",
              "      <td>[3766, 15128, 4472, 13943, 25841, 14753, 8278,...</td>\n",
              "      <td>[2, 2, 2, 2, 2, 2, 6, 2, 2, 2, 2, 2, 6, 2, 2, ...</td>\n",
              "    </tr>\n",
              "    <tr>\n",
              "      <th>1</th>\n",
              "      <td>Sentence: 10</td>\n",
              "      <td>[Iranian, officials, say, they, expect, to, ge...</td>\n",
              "      <td>[JJ, NNS, VBP, PRP, VBP, TO, VB, NN, TO, JJ, J...</td>\n",
              "      <td>[B-gpe, O, O, O, O, O, O, O, O, O, O, O, O, O,...</td>\n",
              "      <td>[2301, 2702, 27099, 28428, 14984, 32297, 7689,...</td>\n",
              "      <td>[3, 2, 2, 2, 2, 2, 2, 2, 2, 2, 2, 2, 2, 2, 2, ...</td>\n",
              "    </tr>\n",
              "    <tr>\n",
              "      <th>2</th>\n",
              "      <td>Sentence: 100</td>\n",
              "      <td>[Helicopter, gunships, Saturday, pounded, mili...</td>\n",
              "      <td>[NN, NNS, NNP, VBD, JJ, NNS, IN, DT, NNP, JJ, ...</td>\n",
              "      <td>[O, O, B-tim, O, O, O, O, O, B-geo, O, O, O, O...</td>\n",
              "      <td>[3682, 16698, 473, 6832, 23992, 21987, 26824, ...</td>\n",
              "      <td>[2, 2, 16, 2, 2, 2, 2, 2, 6, 2, 2, 2, 2, 2, 1,...</td>\n",
              "    </tr>\n",
              "    <tr>\n",
              "      <th>3</th>\n",
              "      <td>Sentence: 1000</td>\n",
              "      <td>[They, left, after, a, tense, hour-long, stand...</td>\n",
              "      <td>[PRP, VBD, IN, DT, NN, JJ, NN, IN, NN, NNS, .]</td>\n",
              "      <td>[O, O, O, O, O, O, O, O, O, O, O]</td>\n",
              "      <td>[16112, 13400, 10371, 4283, 22790, 33063, 7619...</td>\n",
              "      <td>[2, 2, 2, 2, 2, 2, 2, 2, 2, 2, 2]</td>\n",
              "    </tr>\n",
              "    <tr>\n",
              "      <th>4</th>\n",
              "      <td>Sentence: 10000</td>\n",
              "      <td>[U.N., relief, coordinator, Jan, Egeland, said...</td>\n",
              "      <td>[NNP, NN, NN, NNP, NNP, VBD, NNP, ,, NNP, ,, J...</td>\n",
              "      <td>[B-geo, O, O, B-per, I-per, O, B-tim, O, B-geo...</td>\n",
              "      <td>[14840, 20119, 26950, 14390, 884, 8454, 21437,...</td>\n",
              "      <td>[6, 2, 2, 0, 10, 2, 16, 2, 6, 2, 3, 2, 3, 2, 2...</td>\n",
              "    </tr>\n",
              "    <tr>\n",
              "      <th>5</th>\n",
              "      <td>Sentence: 10001</td>\n",
              "      <td>[Mr., Egeland, said, the, latest, figures, sho...</td>\n",
              "      <td>[NNP, NNP, VBD, DT, JJS, NNS, VBP, CD, CD, NNS...</td>\n",
              "      <td>[B-per, I-per, O, O, O, O, O, O, O, O, O, O, O...</td>\n",
              "      <td>[3369, 884, 8454, 35142, 27581, 6071, 21256, 2...</td>\n",
              "      <td>[0, 10, 2, 2, 2, 2, 2, 2, 2, 2, 2, 2, 2, 2, 2,...</td>\n",
              "    </tr>\n",
              "    <tr>\n",
              "      <th>6</th>\n",
              "      <td>Sentence: 10002</td>\n",
              "      <td>[He, said, last, week, 's, tsunami, and, the, ...</td>\n",
              "      <td>[PRP, VBD, JJ, NN, POS, NN, CC, DT, JJ, NN, NN...</td>\n",
              "      <td>[O, O, O, O, O, O, O, O, O, O, O, O, O, O, O, ...</td>\n",
              "      <td>[14670, 8454, 25056, 11728, 6857, 28598, 32957...</td>\n",
              "      <td>[2, 2, 2, 2, 2, 2, 2, 2, 2, 2, 2, 2, 2, 2, 2, ...</td>\n",
              "    </tr>\n",
              "    <tr>\n",
              "      <th>7</th>\n",
              "      <td>Sentence: 10003</td>\n",
              "      <td>[Some, 1,27,000, people, are, known, dead, .]</td>\n",
              "      <td>[DT, CD, NNS, VBP, VBN, JJ, .]</td>\n",
              "      <td>[O, O, O, O, O, O, O]</td>\n",
              "      <td>[26845, 23479, 29034, 15753, 30330, 13399, 32172]</td>\n",
              "      <td>[2, 2, 2, 2, 2, 2, 2]</td>\n",
              "    </tr>\n",
              "    <tr>\n",
              "      <th>8</th>\n",
              "      <td>Sentence: 10004</td>\n",
              "      <td>[Aid, is, being, rushed, to, the, region, ,, b...</td>\n",
              "      <td>[NNP, VBZ, VBG, VBN, TO, DT, NN, ,, CC, DT, NN...</td>\n",
              "      <td>[O, O, O, O, O, O, O, O, O, O, B-geo, O, O, O,...</td>\n",
              "      <td>[29818, 17852, 1690, 12072, 32297, 35142, 3435...</td>\n",
              "      <td>[2, 2, 2, 2, 2, 2, 2, 2, 2, 2, 6, 2, 2, 2, 2, ...</td>\n",
              "    </tr>\n",
              "    <tr>\n",
              "      <th>9</th>\n",
              "      <td>Sentence: 10005</td>\n",
              "      <td>[Lebanese, politicians, are, condemning, Frida...</td>\n",
              "      <td>[JJ, NNS, VBP, VBG, NNP, POS, NN, NN, IN, DT, ...</td>\n",
              "      <td>[B-gpe, O, O, O, B-tim, O, O, O, O, O, O, O, O...</td>\n",
              "      <td>[6624, 1724, 15753, 23233, 11901, 6857, 27688,...</td>\n",
              "      <td>[3, 2, 2, 2, 16, 2, 2, 2, 2, 2, 2, 2, 2, 6, 2,...</td>\n",
              "    </tr>\n",
              "  </tbody>\n",
              "</table>\n",
              "</div>\n",
              "      <button class=\"colab-df-convert\" onclick=\"convertToInteractive('df-3ae75e54-dbb9-430b-852b-3323e865a2be')\"\n",
              "              title=\"Convert this dataframe to an interactive table.\"\n",
              "              style=\"display:none;\">\n",
              "        \n",
              "  <svg xmlns=\"http://www.w3.org/2000/svg\" height=\"24px\"viewBox=\"0 0 24 24\"\n",
              "       width=\"24px\">\n",
              "    <path d=\"M0 0h24v24H0V0z\" fill=\"none\"/>\n",
              "    <path d=\"M18.56 5.44l.94 2.06.94-2.06 2.06-.94-2.06-.94-.94-2.06-.94 2.06-2.06.94zm-11 1L8.5 8.5l.94-2.06 2.06-.94-2.06-.94L8.5 2.5l-.94 2.06-2.06.94zm10 10l.94 2.06.94-2.06 2.06-.94-2.06-.94-.94-2.06-.94 2.06-2.06.94z\"/><path d=\"M17.41 7.96l-1.37-1.37c-.4-.4-.92-.59-1.43-.59-.52 0-1.04.2-1.43.59L10.3 9.45l-7.72 7.72c-.78.78-.78 2.05 0 2.83L4 21.41c.39.39.9.59 1.41.59.51 0 1.02-.2 1.41-.59l7.78-7.78 2.81-2.81c.8-.78.8-2.07 0-2.86zM5.41 20L4 18.59l7.72-7.72 1.47 1.35L5.41 20z\"/>\n",
              "  </svg>\n",
              "      </button>\n",
              "      \n",
              "  <style>\n",
              "    .colab-df-container {\n",
              "      display:flex;\n",
              "      flex-wrap:wrap;\n",
              "      gap: 12px;\n",
              "    }\n",
              "\n",
              "    .colab-df-convert {\n",
              "      background-color: #E8F0FE;\n",
              "      border: none;\n",
              "      border-radius: 50%;\n",
              "      cursor: pointer;\n",
              "      display: none;\n",
              "      fill: #1967D2;\n",
              "      height: 32px;\n",
              "      padding: 0 0 0 0;\n",
              "      width: 32px;\n",
              "    }\n",
              "\n",
              "    .colab-df-convert:hover {\n",
              "      background-color: #E2EBFA;\n",
              "      box-shadow: 0px 1px 2px rgba(60, 64, 67, 0.3), 0px 1px 3px 1px rgba(60, 64, 67, 0.15);\n",
              "      fill: #174EA6;\n",
              "    }\n",
              "\n",
              "    [theme=dark] .colab-df-convert {\n",
              "      background-color: #3B4455;\n",
              "      fill: #D2E3FC;\n",
              "    }\n",
              "\n",
              "    [theme=dark] .colab-df-convert:hover {\n",
              "      background-color: #434B5C;\n",
              "      box-shadow: 0px 1px 3px 1px rgba(0, 0, 0, 0.15);\n",
              "      filter: drop-shadow(0px 1px 2px rgba(0, 0, 0, 0.3));\n",
              "      fill: #FFFFFF;\n",
              "    }\n",
              "  </style>\n",
              "\n",
              "      <script>\n",
              "        const buttonEl =\n",
              "          document.querySelector('#df-3ae75e54-dbb9-430b-852b-3323e865a2be button.colab-df-convert');\n",
              "        buttonEl.style.display =\n",
              "          google.colab.kernel.accessAllowed ? 'block' : 'none';\n",
              "\n",
              "        async function convertToInteractive(key) {\n",
              "          const element = document.querySelector('#df-3ae75e54-dbb9-430b-852b-3323e865a2be');\n",
              "          const dataTable =\n",
              "            await google.colab.kernel.invokeFunction('convertToInteractive',\n",
              "                                                     [key], {});\n",
              "          if (!dataTable) return;\n",
              "\n",
              "          const docLinkHtml = 'Like what you see? Visit the ' +\n",
              "            '<a target=\"_blank\" href=https://colab.research.google.com/notebooks/data_table.ipynb>data table notebook</a>'\n",
              "            + ' to learn more about interactive tables.';\n",
              "          element.innerHTML = '';\n",
              "          dataTable['output_type'] = 'display_data';\n",
              "          await google.colab.output.renderOutput(dataTable, element);\n",
              "          const docLink = document.createElement('div');\n",
              "          docLink.innerHTML = docLinkHtml;\n",
              "          element.appendChild(docLink);\n",
              "        }\n",
              "      </script>\n",
              "    </div>\n",
              "  </div>\n",
              "  "
            ],
            "text/plain": [
              "        Sentence #                                               Word  \\\n",
              "0      Sentence: 1  [Thousands, of, demonstrators, have, marched, ...   \n",
              "1     Sentence: 10  [Iranian, officials, say, they, expect, to, ge...   \n",
              "2    Sentence: 100  [Helicopter, gunships, Saturday, pounded, mili...   \n",
              "3   Sentence: 1000  [They, left, after, a, tense, hour-long, stand...   \n",
              "4  Sentence: 10000  [U.N., relief, coordinator, Jan, Egeland, said...   \n",
              "5  Sentence: 10001  [Mr., Egeland, said, the, latest, figures, sho...   \n",
              "6  Sentence: 10002  [He, said, last, week, 's, tsunami, and, the, ...   \n",
              "7  Sentence: 10003      [Some, 1,27,000, people, are, known, dead, .]   \n",
              "8  Sentence: 10004  [Aid, is, being, rushed, to, the, region, ,, b...   \n",
              "9  Sentence: 10005  [Lebanese, politicians, are, condemning, Frida...   \n",
              "\n",
              "                                                 POS  \\\n",
              "0  [NNS, IN, NNS, VBP, VBN, IN, NNP, TO, VB, DT, ...   \n",
              "1  [JJ, NNS, VBP, PRP, VBP, TO, VB, NN, TO, JJ, J...   \n",
              "2  [NN, NNS, NNP, VBD, JJ, NNS, IN, DT, NNP, JJ, ...   \n",
              "3     [PRP, VBD, IN, DT, NN, JJ, NN, IN, NN, NNS, .]   \n",
              "4  [NNP, NN, NN, NNP, NNP, VBD, NNP, ,, NNP, ,, J...   \n",
              "5  [NNP, NNP, VBD, DT, JJS, NNS, VBP, CD, CD, NNS...   \n",
              "6  [PRP, VBD, JJ, NN, POS, NN, CC, DT, JJ, NN, NN...   \n",
              "7                     [DT, CD, NNS, VBP, VBN, JJ, .]   \n",
              "8  [NNP, VBZ, VBG, VBN, TO, DT, NN, ,, CC, DT, NN...   \n",
              "9  [JJ, NNS, VBP, VBG, NNP, POS, NN, NN, IN, DT, ...   \n",
              "\n",
              "                                                 Tag  \\\n",
              "0  [O, O, O, O, O, O, B-geo, O, O, O, O, O, B-geo...   \n",
              "1  [B-gpe, O, O, O, O, O, O, O, O, O, O, O, O, O,...   \n",
              "2  [O, O, B-tim, O, O, O, O, O, B-geo, O, O, O, O...   \n",
              "3                  [O, O, O, O, O, O, O, O, O, O, O]   \n",
              "4  [B-geo, O, O, B-per, I-per, O, B-tim, O, B-geo...   \n",
              "5  [B-per, I-per, O, O, O, O, O, O, O, O, O, O, O...   \n",
              "6  [O, O, O, O, O, O, O, O, O, O, O, O, O, O, O, ...   \n",
              "7                              [O, O, O, O, O, O, O]   \n",
              "8  [O, O, O, O, O, O, O, O, O, O, B-geo, O, O, O,...   \n",
              "9  [B-gpe, O, O, O, B-tim, O, O, O, O, O, O, O, O...   \n",
              "\n",
              "                                            Word_idx  \\\n",
              "0  [3766, 15128, 4472, 13943, 25841, 14753, 8278,...   \n",
              "1  [2301, 2702, 27099, 28428, 14984, 32297, 7689,...   \n",
              "2  [3682, 16698, 473, 6832, 23992, 21987, 26824, ...   \n",
              "3  [16112, 13400, 10371, 4283, 22790, 33063, 7619...   \n",
              "4  [14840, 20119, 26950, 14390, 884, 8454, 21437,...   \n",
              "5  [3369, 884, 8454, 35142, 27581, 6071, 21256, 2...   \n",
              "6  [14670, 8454, 25056, 11728, 6857, 28598, 32957...   \n",
              "7  [26845, 23479, 29034, 15753, 30330, 13399, 32172]   \n",
              "8  [29818, 17852, 1690, 12072, 32297, 35142, 3435...   \n",
              "9  [6624, 1724, 15753, 23233, 11901, 6857, 27688,...   \n",
              "\n",
              "                                             Tag_idx  \n",
              "0  [2, 2, 2, 2, 2, 2, 6, 2, 2, 2, 2, 2, 6, 2, 2, ...  \n",
              "1  [3, 2, 2, 2, 2, 2, 2, 2, 2, 2, 2, 2, 2, 2, 2, ...  \n",
              "2  [2, 2, 16, 2, 2, 2, 2, 2, 6, 2, 2, 2, 2, 2, 1,...  \n",
              "3                  [2, 2, 2, 2, 2, 2, 2, 2, 2, 2, 2]  \n",
              "4  [6, 2, 2, 0, 10, 2, 16, 2, 6, 2, 3, 2, 3, 2, 2...  \n",
              "5  [0, 10, 2, 2, 2, 2, 2, 2, 2, 2, 2, 2, 2, 2, 2,...  \n",
              "6  [2, 2, 2, 2, 2, 2, 2, 2, 2, 2, 2, 2, 2, 2, 2, ...  \n",
              "7                              [2, 2, 2, 2, 2, 2, 2]  \n",
              "8  [2, 2, 2, 2, 2, 2, 2, 2, 2, 2, 6, 2, 2, 2, 2, ...  \n",
              "9  [3, 2, 2, 2, 16, 2, 2, 2, 2, 2, 2, 2, 2, 6, 2,...  "
            ]
          },
          "execution_count": 6,
          "metadata": {},
          "output_type": "execute_result"
        }
      ],
      "source": [
        "# Fill na\n",
        "data_fillna = data.fillna(method='ffill', axis=0)\n",
        "# Groupby and collect columns\n",
        "data_group = data_fillna.groupby(\n",
        "['Sentence #'],as_index=False\n",
        ")['Word', 'POS', 'Tag', 'Word_idx', 'Tag_idx'].agg(lambda x: list(x))\n",
        "# Visualise data\n",
        "data_group.head(10)"
      ]
    },
    {
      "cell_type": "markdown",
      "metadata": {
        "id": "Pv5ql6HC-I_I"
      },
      "source": [
        "Next we split the data into training and testing"
      ]
    },
    {
      "cell_type": "code",
      "execution_count": null,
      "metadata": {
        "colab": {
          "base_uri": "https://localhost:8080/"
        },
        "id": "RPRV7GGf-KNr",
        "outputId": "08c5f8e3-cd10-4678-dceb-e0fa11437ee7"
      },
      "outputs": [
        {
          "name": "stdout",
          "output_type": "stream",
          "text": [
            "train_tokens length: 32372 \n",
            "train_tokens length: 32372 \n",
            "test_tokens length: 4796 \n",
            "test_tags: 4796 \n",
            "val_tokens: 10791 \n",
            "val_tags: 10791\n"
          ]
        }
      ],
      "source": [
        "from sklearn.model_selection import train_test_split\n",
        "from keras.utils import pad_sequences\n",
        "from tensorflow.keras.utils import to_categorical\n",
        "\n",
        "def get_pad_train_test_val(data_group, data):\n",
        "\n",
        "    #get max token and tag length\n",
        "    n_token = len(list(set(data['Word'].to_list())))\n",
        "    n_tag = len(list(set(data['Tag'].to_list())))\n",
        "\n",
        "    #Pad tokens (X var)\n",
        "    tokens = data_group['Word_idx'].tolist()\n",
        "    maxlen = max([len(s) for s in tokens])\n",
        "    pad_tokens = pad_sequences(tokens, maxlen=maxlen, dtype='int32', padding='post', value= n_token - 1)\n",
        "\n",
        "    #Pad Tags (y var) and convert it into one hot encoding\n",
        "    tags = data_group['Tag_idx'].tolist()\n",
        "    pad_tags = pad_sequences(tags, maxlen=maxlen, dtype='int32', padding='post', value= tag2idx[\"O\"])\n",
        "    n_tags = len(tag2idx)\n",
        "    pad_tags = [to_categorical(i, num_classes=n_tags) for i in pad_tags]\n",
        "\n",
        "    #Split train, test and validation set\n",
        "    tokens_, test_tokens, tags_, test_tags = train_test_split(pad_tokens, pad_tags, test_size=0.1, train_size=0.9, random_state=2020)\n",
        "    train_tokens, val_tokens, train_tags, val_tags = train_test_split(tokens_,tags_,test_size = 0.25,train_size =0.75, random_state=2020)\n",
        "\n",
        "    print(\n",
        "        'train_tokens length:', len(train_tokens),\n",
        "        '\\ntrain_tokens length:', len(train_tokens),\n",
        "        '\\ntest_tokens length:', len(test_tokens),\n",
        "        '\\ntest_tags:', len(test_tags),\n",
        "        '\\nval_tokens:', len(val_tokens),\n",
        "        '\\nval_tags:', len(val_tags),\n",
        "    )\n",
        "\n",
        "    return train_tokens, val_tokens, test_tokens, train_tags, val_tags, test_tags\n",
        "\n",
        "train_tokens, val_tokens, test_tokens, train_tags, val_tags, test_tags = get_pad_train_test_val(data_group, data)"
      ]
    },
    {
      "cell_type": "markdown",
      "metadata": {
        "id": "N4nuewW0BJ_3"
      },
      "source": [
        "Before creating our model, we need to find some pre-trained embeddings to help us with the task...for example, you can find GloVe embeddings here https://nlp.stanford.edu/projects/glove/"
      ]
    },
    {
      "cell_type": "code",
      "execution_count": null,
      "metadata": {
        "colab": {
          "base_uri": "https://localhost:8080/"
        },
        "id": "QzTFCDaABLaK",
        "outputId": "16ad66ee-cd49-4dfa-e076-221a94563f80"
      },
      "outputs": [
        {
          "name": "stdout",
          "output_type": "stream",
          "text": [
            "--2023-07-11 03:35:43--  https://nlp.stanford.edu/data/glove.6B.zip\n",
            "Resolving nlp.stanford.edu (nlp.stanford.edu)... 171.64.67.140\n",
            "Connecting to nlp.stanford.edu (nlp.stanford.edu)|171.64.67.140|:443... connected.\n",
            "HTTP request sent, awaiting response... 301 Moved Permanently\n",
            "Location: https://downloads.cs.stanford.edu/nlp/data/glove.6B.zip [following]\n",
            "--2023-07-11 03:35:43--  https://downloads.cs.stanford.edu/nlp/data/glove.6B.zip\n",
            "Resolving downloads.cs.stanford.edu (downloads.cs.stanford.edu)... 171.64.64.22\n",
            "Connecting to downloads.cs.stanford.edu (downloads.cs.stanford.edu)|171.64.64.22|:443... connected.\n",
            "HTTP request sent, awaiting response... 200 OK\n",
            "Length: 862182613 (822M) [application/zip]\n",
            "Saving to: ‘glove.6B.zip’\n",
            "\n",
            "glove.6B.zip        100%[===================>] 822.24M  5.13MB/s    in 2m 40s  \n",
            "\n",
            "2023-07-11 03:38:24 (5.14 MB/s) - ‘glove.6B.zip’ saved [862182613/862182613]\n",
            "\n"
          ]
        }
      ],
      "source": [
        "!wget https://nlp.stanford.edu/data/glove.6B.zip"
      ]
    },
    {
      "cell_type": "code",
      "execution_count": null,
      "metadata": {
        "colab": {
          "base_uri": "https://localhost:8080/"
        },
        "id": "ILvrVJZxBUmC",
        "outputId": "da8c221d-9933-4220-b185-a763ed42edc6"
      },
      "outputs": [
        {
          "name": "stdout",
          "output_type": "stream",
          "text": [
            "Collecting patool\n",
            "  Downloading patool-1.12-py2.py3-none-any.whl (77 kB)\n",
            "\u001b[?25l     \u001b[90m━━━━━━━━━━━━━━━━━━━━━━━━━━━━━━━━━━━━━━━━\u001b[0m \u001b[32m0.0/77.5 kB\u001b[0m \u001b[31m?\u001b[0m eta \u001b[36m-:--:--\u001b[0m\r\u001b[2K     \u001b[90m━━━━━━━━━━━━━━━━━━━━━━━━━━━━━━━━━━━━━━━━\u001b[0m \u001b[32m77.5/77.5 kB\u001b[0m \u001b[31m8.2 MB/s\u001b[0m eta \u001b[36m0:00:00\u001b[0m\n",
            "\u001b[?25hInstalling collected packages: patool\n",
            "Successfully installed patool-1.12\n"
          ]
        }
      ],
      "source": [
        "!pip install patool\n",
        "import patoolib"
      ]
    },
    {
      "cell_type": "code",
      "execution_count": null,
      "metadata": {
        "colab": {
          "base_uri": "https://localhost:8080/",
          "height": 89
        },
        "id": "iK4EqTu9CO0e",
        "outputId": "35042186-686b-421c-d6e1-5b205343fc1f"
      },
      "outputs": [
        {
          "name": "stdout",
          "output_type": "stream",
          "text": [
            "patool: Extracting glove.6B.zip ...\n",
            "patool: running /usr/bin/7z x -o./ -- glove.6B.zip\n",
            "patool: ... glove.6B.zip extracted to `./'.\n"
          ]
        },
        {
          "data": {
            "application/vnd.google.colaboratory.intrinsic+json": {
              "type": "string"
            },
            "text/plain": [
              "'./'"
            ]
          },
          "execution_count": 11,
          "metadata": {},
          "output_type": "execute_result"
        }
      ],
      "source": [
        "patoolib.extract_archive(\"glove.6B.zip\", outdir=\"./\")"
      ]
    },
    {
      "cell_type": "markdown",
      "metadata": {
        "id": "-BbQ5mNKCYcJ"
      },
      "source": [
        "Let's a mapping between the vocabulary in our pretained models and their corresponding embeddings."
      ]
    },
    {
      "cell_type": "code",
      "execution_count": null,
      "metadata": {
        "id": "bvX4g6D9CaS9"
      },
      "outputs": [],
      "source": [
        "def load_embeddings():\n",
        "  lines = open(\"./glove.6B.100d.txt\", \"r\").readlines()\n",
        "\n",
        "  w2e = {}\n",
        "  for l in lines:\n",
        "    s = l.split(\" \")\n",
        "    word = s[0]\n",
        "    embedding = np.zeros( (1, len(s)-1))\n",
        "    for k, x in enumerate(s[1:]):\n",
        "      embedding[0,k] = float(x.strip())\n",
        "\n",
        "    w2e[word] = embedding\n",
        "\n",
        "  return w2e\n",
        "\n",
        "w2e = load_embeddings()"
      ]
    },
    {
      "cell_type": "markdown",
      "metadata": {
        "id": "cKA1zWUEC3Ne"
      },
      "source": [
        "We will be using the embedding layer from pytorch to build our network. To do so, we first need to create a weight matrix for each token in our vocabulary. That is, the weight matrix in row i should correspond to the word i in the vocabulary."
      ]
    },
    {
      "cell_type": "code",
      "execution_count": null,
      "metadata": {
        "id": "IwaEXMY_C8sU"
      },
      "outputs": [],
      "source": [
        "def create_weight_matrix(w2e, token2idx, idx2token):\n",
        "  vocab_length = len(list(token2idx.keys()))\n",
        "  embed_dim = 100\n",
        "  weight_matrix = np.zeros((vocab_length, embed_dim))\n",
        "\n",
        "  for i in range(len(list(token2idx.keys()))):\n",
        "    try:\n",
        "        w = idx2token[i].lower()\n",
        "        weight_matrix[i] = w2e[w]\n",
        "    except KeyError:\n",
        "        weight_matrix[i] = np.random.normal(scale=0.6, size=(embed_dim, ))\n",
        "\n",
        "  return weight_matrix"
      ]
    },
    {
      "cell_type": "markdown",
      "metadata": {
        "id": "M3GRrGaYDQb3"
      },
      "source": [
        "Next, let's make a function that created the embedding layer and loads a weight matrix of pre-trained embeddings."
      ]
    },
    {
      "cell_type": "code",
      "execution_count": null,
      "metadata": {
        "id": "Nx9ZTO4iDXJN"
      },
      "outputs": [],
      "source": [
        "def create_emb_layer(weight_matrix, non_trainable=False):\n",
        "    num_embeddings = weight_matrix.shape[0]\n",
        "    embedding_dim = weight_matrix.shape[1]\n",
        "    weights = torch.from_numpy(weight_matrix)\n",
        "    emb_layer = nn.Embedding(num_embeddings, embedding_dim)\n",
        "    emb_layer.load_state_dict({'weight': weights})\n",
        "    if non_trainable:\n",
        "        emb_layer.weight.requires_grad = False\n",
        "\n",
        "    return emb_layer, embedding_dim"
      ]
    },
    {
      "cell_type": "markdown",
      "metadata": {
        "id": "W96MtGHqDt8h"
      },
      "source": [
        "Next, let's build the network. Make sure you include a layer that is able to capture sequential dependency."
      ]
    },
    {
      "cell_type": "code",
      "execution_count": null,
      "metadata": {
        "id": "cVpqqKR8DwyY"
      },
      "outputs": [],
      "source": [
        "#Sample solution\n",
        "class Net(nn.Module):\n",
        "    def __init__(self, weight_matrix, lstm_hidden_dim, num_of_tags):\n",
        "        super(Net, self).__init__()\n",
        "\n",
        "        #maps each token to an embedding_dim vector\n",
        "        self.embedding, embedding_dim = create_emb_layer(weight_matrix)\n",
        "\n",
        "        #the LSTM takens embedded sentence\n",
        "        self.lstm = nn.LSTM(embedding_dim, lstm_hidden_dim, batch_first=True)\n",
        "\n",
        "        #fc layer transforms the output to give the final output layer\n",
        "        self.fc = nn.Linear(lstm_hidden_dim, num_of_tags)\n",
        "\n",
        "\n",
        "\n",
        "    def forward(self, s):\n",
        "        #apply the embedding layer that maps each token to its embedding\n",
        "        s = self.embedding(s)   # dim: batch_size x batch_max_len x embedding_dim\n",
        "\n",
        "        #run the LSTM along the sentences of length batch_max_len\n",
        "        s, _ = self.lstm(s)     # dim: batch_size x batch_max_len x lstm_hidden_dim\n",
        "\n",
        "        #reshape the Variable so that each row contains one token\n",
        "        s = s.reshape(-1, s.shape[2])  # dim: batch_size*batch_max_len x lstm_hidden_dim\n",
        "\n",
        "        #apply the fully connected layer and obtain the output for each token\n",
        "        s = self.fc(s)          # dim: batch_size*batch_max_len x num_tags\n",
        "\n",
        "        return F.log_softmax(s, dim=1)   # dim: batch_size*batch_max_len x num_tags"
      ]
    },
    {
      "cell_type": "markdown",
      "metadata": {
        "id": "Z78hIHoIEbhI"
      },
      "source": [
        "Create the loss function used for training our network"
      ]
    },
    {
      "cell_type": "code",
      "execution_count": null,
      "metadata": {
        "id": "i2SHa3YNEgmP"
      },
      "outputs": [],
      "source": [
        "# Sample solution\n",
        "def loss_fn(outputs, labels):\n",
        "    #reshape labels to give a flat vector of length batch_size*seq_len\n",
        "    labels = labels.view(-1)\n",
        "\n",
        "    #the number of tokens is the sum of elements in mask\n",
        "    num_tokens = labels.shape[0]\n",
        "\n",
        "    #pick the values corresponding to labels and multiply by mask\n",
        "    outputs = outputs[range(outputs.shape[0]), labels]\n",
        "\n",
        "    #cross entropy loss for all non 'PAD' tokens\n",
        "    return -torch.sum(outputs)/ num_tokens"
      ]
    },
    {
      "cell_type": "code",
      "execution_count": null,
      "metadata": {
        "colab": {
          "base_uri": "https://localhost:8080/"
        },
        "id": "CFadw0IVEt6r",
        "outputId": "6deffdbf-8361-45b7-c270-bb35b6e335e0"
      },
      "outputs": [
        {
          "name": "stdout",
          "output_type": "stream",
          "text": [
            "(32372, 104)\n",
            "(10791, 104)\n",
            "(4796, 104)\n"
          ]
        }
      ],
      "source": [
        "train_labels, val_labels, test_labels = [], [], []\n",
        "for x in train_tags:\n",
        "  train_labels.append( np.argmax(x, axis=1) )\n",
        "train_labels = np.asarray(train_labels).squeeze()\n",
        "\n",
        "for x in val_tags:\n",
        "  val_labels.append( np.argmax(x, axis=1) )\n",
        "val_labels = np.asarray(val_labels).squeeze()\n",
        "\n",
        "for x in test_tags:\n",
        "  test_labels.append( np.argmax(x, axis=1) )\n",
        "test_labels = np.asarray(test_labels).squeeze()\n",
        "\n",
        "print(train_labels.shape)\n",
        "print(val_labels.shape)\n",
        "print(test_labels.shape)"
      ]
    },
    {
      "cell_type": "code",
      "execution_count": null,
      "metadata": {
        "colab": {
          "background_save": true,
          "base_uri": "https://localhost:8080/"
        },
        "id": "QdApHpWWE_1s",
        "outputId": "95d63311-7e34-4826-b029-94198f078d5c"
      },
      "outputs": [
        {
          "name": "stdout",
          "output_type": "stream",
          "text": [
            "Epoch: 0 - 2.833374\n",
            "Epoch: 100 - 0.363141\n",
            "Epoch: 200 - 0.136530\n",
            "Epoch: 300 - 0.095609\n",
            "Epoch: 400 - 0.071030\n",
            "Epoch: 500 - 0.051899\n",
            "Epoch: 600 - 0.042326\n",
            "Epoch: 700 - 0.035530\n",
            "Epoch: 800 - 0.031702\n",
            "Epoch: 900 - 0.030147\n",
            "Epoch: 1000 - 0.027719\n",
            "Epoch: 1100 - 0.026013\n",
            "Epoch: 1200 - 0.024754\n",
            "Epoch: 1300 - 0.023969\n",
            "Epoch: 1400 - 0.022533\n",
            "Epoch: 1500 - 0.021464\n",
            "Epoch: 1600 - 0.020747\n",
            "Epoch: 1700 - 0.020747\n",
            "Epoch: 1800 - 0.020444\n",
            "Epoch: 1900 - 0.019998\n"
          ]
        }
      ],
      "source": [
        "# Create training routine\n",
        "\n",
        "weight_matrix = create_weight_matrix(w2e, token2idx, idx2token)\n",
        "network = Net( weight_matrix, lstm_hidden_dim=128, num_of_tags=len(list(idx2tag.keys())) )\n",
        "\n",
        "optimizer = optim.Adam( network.parameters(), lr=1e-3 )\n",
        "\n",
        "batch_size=128\n",
        "indices = np.arange(train_labels.shape[0])\n",
        "epochs = 2000\n",
        "\n",
        "losses = []\n",
        "for e in range(epochs):\n",
        "  np.random.shuffle(indices)\n",
        "  selected_indices = indices[:batch_size]\n",
        "  selected_x = train_tokens[selected_indices]\n",
        "  selected_y = train_labels[selected_indices]\n",
        "\n",
        "  selected_x = torch.from_numpy(selected_x)\n",
        "  selected_y = torch.from_numpy(selected_y)\n",
        "\n",
        "  probs = network.forward(selected_x)\n",
        "  loss = loss_fn(probs, selected_y)\n",
        "\n",
        "  optimizer.zero_grad()\n",
        "  loss.backward()\n",
        "  optimizer.step()\n",
        "\n",
        "  losses.append(loss.detach())\n",
        "  if e % 100 == 0:\n",
        "    print(\"Epoch: %d - %.6f\" %(e, np.mean(losses)))\n",
        "    losses = []"
      ]
    },
    {
      "cell_type": "markdown",
      "metadata": {
        "id": "bj92wKzZFuPb"
      },
      "source": [
        "Now that we have our model trained. Let's evaluate using the test data in terms of precision, recall, and f1."
      ]
    },
    {
      "cell_type": "code",
      "execution_count": null,
      "metadata": {
        "colab": {
          "background_save": true
        },
        "id": "UO_3yUQBFvo2",
        "outputId": "b37c528b-763b-4aba-92f6-40770e412c41"
      },
      "outputs": [
        {
          "name": "stdout",
          "output_type": "stream",
          "text": [
            "Label: B-nat - Precision: 1.0000 - Recall: 0.0588 - f1: 0.1111 - Support: 17.0000\n",
            "Label: I-geo - Precision: 0.7683 - Recall: 0.7841 - f1: 0.7762 - Support: 681.0000\n",
            "Label: I-gpe - Precision: 0.0000 - Recall: 0.0000 - f1: 0.0000 - Support: 22.0000\n",
            "Label: I-nat - Precision: 0.0000 - Recall: 0.0000 - f1: 0.0000 - Support: 7.0000\n",
            "Label: I-art - Precision: 0.0000 - Recall: 0.0000 - f1: 0.0000 - Support: 28.0000\n",
            "Label: B-tim - Precision: 0.8795 - Recall: 0.8380 - f1: 0.8582 - Support: 1994.0000\n",
            "Label: I-per - Precision: 0.8506 - Recall: 0.8799 - f1: 0.8650 - Support: 1715.0000\n",
            "Label: B-art - Precision: 0.0000 - Recall: 0.0000 - f1: 0.0000 - Support: 28.0000\n",
            "Label: I-eve - Precision: 0.0000 - Recall: 0.0000 - f1: 0.0000 - Support: 23.0000\n",
            "Label: B-gpe - Precision: 0.9380 - Recall: 0.9300 - f1: 0.9340 - Support: 1628.0000\n",
            "Label: O - Precision: 0.9976 - Recall: 0.9982 - f1: 0.9979 - Support: 482811.0000\n",
            "Label: B-geo - Precision: 0.8222 - Recall: 0.8821 - f1: 0.8511 - Support: 3690.0000\n",
            "Label: I-org - Precision: 0.7942 - Recall: 0.7230 - f1: 0.7569 - Support: 1697.0000\n",
            "Label: I-tim - Precision: 0.7375 - Recall: 0.7003 - f1: 0.7184 - Support: 674.0000\n",
            "Label: B-eve - Precision: 0.0000 - Recall: 0.0000 - f1: 0.0000 - Support: 34.0000\n",
            "Label: B-per - Precision: 0.8258 - Recall: 0.8379 - f1: 0.8318 - Support: 1697.0000\n",
            "Label: B-org - Precision: 0.6907 - Recall: 0.6246 - f1: 0.6560 - Support: 2038.0000\n"
          ]
        },
        {
          "name": "stderr",
          "output_type": "stream",
          "text": [
            "/usr/local/lib/python3.10/dist-packages/sklearn/metrics/_classification.py:1344: UndefinedMetricWarning: Precision and F-score are ill-defined and being set to 0.0 in labels with no predicted samples. Use `zero_division` parameter to control this behavior.\n",
            "  _warn_prf(average, modifier, msg_start, len(result))\n"
          ]
        }
      ],
      "source": [
        "#Evaluate precision-recall-f1\n",
        "from sklearn.metrics import precision_recall_fscore_support\n",
        "\n",
        "batch_size = 128\n",
        "k = 0\n",
        "\n",
        "preds = None\n",
        "while k < test_tokens.shape[0]:\n",
        "  x = test_tokens[k:k+batch_size] if k+batch_size < test_tokens.shape[0] else test_tokens[k:]\n",
        "  y = test_labels[k:k+batch_size] if k+batch_size < test_labels.shape[0] else test_labels[k:]\n",
        "\n",
        "  x = torch.from_numpy(x)\n",
        "  y = torch.from_numpy(y)\n",
        "\n",
        "  probs = network.forward(x).detach().numpy()\n",
        "  yhat = np.argmax(probs, axis=1)\n",
        "\n",
        "  preds = yhat if preds is None else np.hstack( (preds, yhat) )\n",
        "\n",
        "  k += batch_size\n",
        "\n",
        "labels = [ idx2tag[i] for i in range(len(list(idx2tag.keys()))) ]\n",
        "test_labels = test_labels.reshape((-1,))\n",
        "\n",
        "p, r, f, s = precision_recall_fscore_support( test_labels, preds)\n",
        "\n",
        "for i in range(len(labels)):\n",
        "  print(\"Label: %s - Precision: %.4f - Recall: %.4f - f1: %.4f - Support: %.4f\" %(labels[i], p[i], r[i], f[i], s[i]) )"
      ]
    },
    {
      "cell_type": "markdown",
      "source": [
        "**sample response: Classes with small number of examples tend to perform worse than others. This is likely due to data imbalance in training data. Possible ways to address that is, oversample minority class, undersample majority class, or balance mini-batches during training. Another option could also be to include all small classes as a single group, if that level of granularity is not needed**"
      ],
      "metadata": {
        "id": "KQZ0UNcfdcDP"
      }
    }
  ],
  "metadata": {
    "accelerator": "GPU",
    "colab": {
      "provenance": [],
      "authorship_tag": "ABX9TyOc6cFidw9hHLsLp1UZtd4O",
      "include_colab_link": true
    },
    "kernelspec": {
      "display_name": "Python 3",
      "name": "python3"
    },
    "language_info": {
      "name": "python"
    }
  },
  "nbformat": 4,
  "nbformat_minor": 0
}